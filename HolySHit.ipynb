{
  "nbformat": 4,
  "nbformat_minor": 0,
  "metadata": {
    "colab": {
      "name": "HolySHit.ipynb",
      "version": "0.3.2",
      "provenance": [],
      "include_colab_link": true
    },
    "kernelspec": {
      "name": "python3",
      "display_name": "Python 3"
    },
    "accelerator": "GPU"
  },
  "cells": [
    {
      "cell_type": "markdown",
      "metadata": {
        "id": "view-in-github",
        "colab_type": "text"
      },
      "source": [
        "<a href=\"https://colab.research.google.com/github/SaiBiswas/Identify-the-Digits-AV-Hackathon/blob/master/HolySHit.ipynb\" target=\"_parent\"><img src=\"https://colab.research.google.com/assets/colab-badge.svg\" alt=\"Open In Colab\"/></a>"
      ]
    },
    {
      "metadata": {
        "id": "WwX3f-bccTAV",
        "colab_type": "code",
        "outputId": "47b96f07-bc98-4a04-9ea9-b4b498cc0086",
        "colab": {
          "base_uri": "https://localhost:8080/",
          "height": 339
        }
      },
      "cell_type": "code",
      "source": [
        "!pip install PyDrive\n"
      ],
      "execution_count": 0,
      "outputs": [
        {
          "output_type": "stream",
          "text": [
            "Collecting PyDrive\n",
            "\u001b[?25l  Downloading https://files.pythonhosted.org/packages/52/e0/0e64788e5dd58ce2d6934549676243dc69d982f198524be9b99e9c2a4fd5/PyDrive-1.3.1.tar.gz (987kB)\n",
            "\r\u001b[K    1% |▎                               | 10kB 24.4MB/s eta 0:00:01\r\u001b[K    2% |▋                               | 20kB 4.8MB/s eta 0:00:01\r\u001b[K    3% |█                               | 30kB 6.9MB/s eta 0:00:01\r\u001b[K    4% |█▎                              | 40kB 4.4MB/s eta 0:00:01\r\u001b[K    5% |█▋                              | 51kB 5.4MB/s eta 0:00:01\r\u001b[K    6% |██                              | 61kB 6.4MB/s eta 0:00:01\r\u001b[K    7% |██▎                             | 71kB 7.2MB/s eta 0:00:01\r\u001b[K    8% |██▋                             | 81kB 8.0MB/s eta 0:00:01\r\u001b[K    9% |███                             | 92kB 8.9MB/s eta 0:00:01\r\u001b[K    10% |███▎                            | 102kB 7.1MB/s eta 0:00:01\r\u001b[K    11% |███▋                            | 112kB 7.2MB/s eta 0:00:01\r\u001b[K    12% |████                            | 122kB 9.8MB/s eta 0:00:01\r\u001b[K    13% |████▎                           | 133kB 9.6MB/s eta 0:00:01\r\u001b[K    14% |████▋                           | 143kB 17.1MB/s eta 0:00:01\r\u001b[K    15% |█████                           | 153kB 17.3MB/s eta 0:00:01\r\u001b[K    16% |█████▎                          | 163kB 17.3MB/s eta 0:00:01\r\u001b[K    17% |█████▋                          | 174kB 17.4MB/s eta 0:00:01\r\u001b[K    18% |██████                          | 184kB 17.7MB/s eta 0:00:01\r\u001b[K    19% |██████▎                         | 194kB 17.7MB/s eta 0:00:01\r\u001b[K    20% |██████▋                         | 204kB 47.7MB/s eta 0:00:01\r\u001b[K    21% |███████                         | 215kB 21.5MB/s eta 0:00:01\r\u001b[K    22% |███████▎                        | 225kB 21.6MB/s eta 0:00:01\r\u001b[K    23% |███████▋                        | 235kB 22.4MB/s eta 0:00:01\r\u001b[K    24% |████████                        | 245kB 22.2MB/s eta 0:00:01\r\u001b[K    25% |████████▎                       | 256kB 22.4MB/s eta 0:00:01\r\u001b[K    26% |████████▋                       | 266kB 21.3MB/s eta 0:00:01\r\u001b[K    27% |█████████                       | 276kB 21.8MB/s eta 0:00:01\r\u001b[K    29% |█████████▎                      | 286kB 21.8MB/s eta 0:00:01\r\u001b[K    30% |█████████▋                      | 296kB 21.8MB/s eta 0:00:01\r\u001b[K    31% |██████████                      | 307kB 22.6MB/s eta 0:00:01\r\u001b[K    32% |██████████▎                     | 317kB 56.2MB/s eta 0:00:01\r\u001b[K    33% |██████████▋                     | 327kB 56.2MB/s eta 0:00:01\r\u001b[K    34% |███████████                     | 337kB 57.9MB/s eta 0:00:01\r\u001b[K    35% |███████████▎                    | 348kB 51.0MB/s eta 0:00:01\r\u001b[K    36% |███████████▋                    | 358kB 50.9MB/s eta 0:00:01\r\u001b[K    37% |████████████                    | 368kB 57.6MB/s eta 0:00:01\r\u001b[K    38% |████████████▎                   | 378kB 57.2MB/s eta 0:00:01\r\u001b[K    39% |████████████▋                   | 389kB 58.0MB/s eta 0:00:01\r\u001b[K    40% |█████████████                   | 399kB 29.9MB/s eta 0:00:01\r\u001b[K    41% |█████████████▎                  | 409kB 29.4MB/s eta 0:00:01\r\u001b[K    42% |█████████████▋                  | 419kB 29.5MB/s eta 0:00:01\r\u001b[K    43% |██████████████                  | 430kB 29.2MB/s eta 0:00:01\r\u001b[K    44% |██████████████▎                 | 440kB 29.1MB/s eta 0:00:01\r\u001b[K    45% |██████████████▋                 | 450kB 30.4MB/s eta 0:00:01\r\u001b[K    46% |███████████████                 | 460kB 30.2MB/s eta 0:00:01\r\u001b[K    47% |███████████████▎                | 471kB 30.5MB/s eta 0:00:01\r\u001b[K    48% |███████████████▋                | 481kB 30.6MB/s eta 0:00:01\r\u001b[K    49% |████████████████                | 491kB 30.3MB/s eta 0:00:01\r\u001b[K    50% |████████████████▎               | 501kB 61.0MB/s eta 0:00:01\r\u001b[K    51% |████████████████▋               | 512kB 58.1MB/s eta 0:00:01\r\u001b[K    52% |█████████████████               | 522kB 57.9MB/s eta 0:00:01\r\u001b[K    53% |█████████████████▎              | 532kB 59.5MB/s eta 0:00:01\r\u001b[K    54% |█████████████████▋              | 542kB 59.1MB/s eta 0:00:01\r\u001b[K    55% |██████████████████              | 552kB 63.6MB/s eta 0:00:01\r\u001b[K    57% |██████████████████▎             | 563kB 64.4MB/s eta 0:00:01\r\u001b[K    58% |██████████████████▋             | 573kB 62.9MB/s eta 0:00:01\r\u001b[K    59% |███████████████████             | 583kB 63.4MB/s eta 0:00:01\r\u001b[K    60% |███████████████████▎            | 593kB 63.8MB/s eta 0:00:01\r\u001b[K    61% |███████████████████▋            | 604kB 63.6MB/s eta 0:00:01\r\u001b[K    62% |████████████████████            | 614kB 68.3MB/s eta 0:00:01\r\u001b[K    63% |████████████████████▎           | 624kB 68.1MB/s eta 0:00:01\r\u001b[K    64% |████████████████████▋           | 634kB 67.7MB/s eta 0:00:01\r\u001b[K    65% |█████████████████████           | 645kB 68.2MB/s eta 0:00:01\r\u001b[K    66% |█████████████████████▎          | 655kB 67.6MB/s eta 0:00:01\r\u001b[K    67% |█████████████████████▋          | 665kB 52.3MB/s eta 0:00:01\r\u001b[K    68% |██████████████████████          | 675kB 52.1MB/s eta 0:00:01\r\u001b[K    69% |██████████████████████▎         | 686kB 52.4MB/s eta 0:00:01\r\u001b[K    70% |██████████████████████▋         | 696kB 51.7MB/s eta 0:00:01\r\u001b[K    71% |███████████████████████         | 706kB 51.1MB/s eta 0:00:01\r\u001b[K    72% |███████████████████████▎        | 716kB 51.7MB/s eta 0:00:01\r\u001b[K    73% |███████████████████████▋        | 727kB 51.4MB/s eta 0:00:01\r\u001b[K    74% |████████████████████████        | 737kB 50.8MB/s eta 0:00:01\r\u001b[K    75% |████████████████████████▎       | 747kB 51.0MB/s eta 0:00:01\r\u001b[K    76% |████████████████████████▋       | 757kB 51.1MB/s eta 0:00:01\r\u001b[K    77% |████████████████████████▉       | 768kB 66.1MB/s eta 0:00:01\r\u001b[K    78% |█████████████████████████▏      | 778kB 67.2MB/s eta 0:00:01\r\u001b[K    79% |█████████████████████████▌      | 788kB 65.4MB/s eta 0:00:01\r\u001b[K    80% |█████████████████████████▉      | 798kB 66.9MB/s eta 0:00:01\r\u001b[K    81% |██████████████████████████▏     | 808kB 67.0MB/s eta 0:00:01\r\u001b[K    82% |██████████████████████████▌     | 819kB 66.9MB/s eta 0:00:01\r\u001b[K    83% |██████████████████████████▉     | 829kB 68.3MB/s eta 0:00:01\r\u001b[K    85% |███████████████████████████▏    | 839kB 69.6MB/s eta 0:00:01\r\u001b[K    86% |███████████████████████████▌    | 849kB 69.1MB/s eta 0:00:01\r\u001b[K    87% |███████████████████████████▉    | 860kB 62.0MB/s eta 0:00:01\r\u001b[K    88% |████████████████████████████▏   | 870kB 59.9MB/s eta 0:00:01\r\u001b[K    89% |████████████████████████████▌   | 880kB 60.5MB/s eta 0:00:01\r\u001b[K    90% |████████████████████████████▉   | 890kB 61.6MB/s eta 0:00:01\r\u001b[K    91% |█████████████████████████████▏  | 901kB 60.5MB/s eta 0:00:01\r\u001b[K    92% |█████████████████████████████▌  | 911kB 60.9MB/s eta 0:00:01\r\u001b[K    93% |█████████████████████████████▉  | 921kB 61.1MB/s eta 0:00:01\r\u001b[K    94% |██████████████████████████████▏ | 931kB 60.7MB/s eta 0:00:01\r\u001b[K    95% |██████████████████████████████▌ | 942kB 60.6MB/s eta 0:00:01\r\u001b[K    96% |██████████████████████████████▉ | 952kB 60.5MB/s eta 0:00:01\r\u001b[K    97% |███████████████████████████████▏| 962kB 68.2MB/s eta 0:00:01\r\u001b[K    98% |███████████████████████████████▌| 972kB 70.5MB/s eta 0:00:01\r\u001b[K    99% |███████████████████████████████▉| 983kB 68.8MB/s eta 0:00:01\r\u001b[K    100% |████████████████████████████████| 993kB 24.6MB/s \n",
            "\u001b[?25hRequirement already satisfied: google-api-python-client>=1.2 in /usr/local/lib/python3.6/dist-packages (from PyDrive) (1.6.7)\n",
            "Requirement already satisfied: oauth2client>=4.0.0 in /usr/local/lib/python3.6/dist-packages (from PyDrive) (4.1.3)\n",
            "Requirement already satisfied: PyYAML>=3.0 in /usr/local/lib/python3.6/dist-packages (from PyDrive) (3.13)\n",
            "Requirement already satisfied: six<2dev,>=1.6.1 in /usr/local/lib/python3.6/dist-packages (from google-api-python-client>=1.2->PyDrive) (1.11.0)\n",
            "Requirement already satisfied: httplib2<1dev,>=0.9.2 in /usr/local/lib/python3.6/dist-packages (from google-api-python-client>=1.2->PyDrive) (0.11.3)\n",
            "Requirement already satisfied: uritemplate<4dev,>=3.0.0 in /usr/local/lib/python3.6/dist-packages (from google-api-python-client>=1.2->PyDrive) (3.0.0)\n",
            "Requirement already satisfied: rsa>=3.1.4 in /usr/local/lib/python3.6/dist-packages (from oauth2client>=4.0.0->PyDrive) (4.0)\n",
            "Requirement already satisfied: pyasn1-modules>=0.0.5 in /usr/local/lib/python3.6/dist-packages (from oauth2client>=4.0.0->PyDrive) (0.2.3)\n",
            "Requirement already satisfied: pyasn1>=0.1.7 in /usr/local/lib/python3.6/dist-packages (from oauth2client>=4.0.0->PyDrive) (0.4.5)\n",
            "Building wheels for collected packages: PyDrive\n",
            "  Running setup.py bdist_wheel for PyDrive ... \u001b[?25l-\b \bdone\n",
            "\u001b[?25h  Stored in directory: /root/.cache/pip/wheels/fa/d2/9a/d3b6b506c2da98289e5d417215ce34b696db856643bad779f4\n",
            "Successfully built PyDrive\n",
            "Installing collected packages: PyDrive\n",
            "Successfully installed PyDrive-1.3.1\n"
          ],
          "name": "stdout"
        }
      ]
    },
    {
      "metadata": {
        "id": "q_h7U9ppdeJH",
        "colab_type": "code",
        "colab": {}
      },
      "cell_type": "code",
      "source": [
        "# pytorch module commence\n",
        "import os\n",
        "from pydrive.auth import GoogleAuth\n",
        "from pydrive.drive import GoogleDrive\n",
        "from google.colab import auth\n",
        "from oauth2client.client import GoogleCredentials\n"
      ],
      "execution_count": 0,
      "outputs": []
    },
    {
      "metadata": {
        "id": "yKpKe7x9dizv",
        "colab_type": "code",
        "colab": {}
      },
      "cell_type": "code",
      "source": [
        "auth.authenticate_user()\n",
        "gauth = GoogleAuth()\n",
        "gauth.credentials = GoogleCredentials.get_application_default()\n",
        "drive = GoogleDrive(gauth)"
      ],
      "execution_count": 0,
      "outputs": []
    },
    {
      "metadata": {
        "id": "mhZoL4QjrkRT",
        "colab_type": "code",
        "colab": {}
      },
      "cell_type": "code",
      "source": [
        ""
      ],
      "execution_count": 0,
      "outputs": []
    },
    {
      "metadata": {
        "id": "VK_Lua9Qd-VF",
        "colab_type": "code",
        "colab": {}
      },
      "cell_type": "code",
      "source": [
        "import numpy as np\n",
        "import pandas as pd"
      ],
      "execution_count": 0,
      "outputs": []
    },
    {
      "metadata": {
        "id": "RUvhqjJxq7bC",
        "colab_type": "code",
        "colab": {
          "base_uri": "https://localhost:8080/",
          "height": 128
        },
        "outputId": "e35f8474-de41-49d4-ebb5-a9bf8dde4869"
      },
      "cell_type": "code",
      "source": [
        "def numx(closs,rob):\n",
        "  if['label'] <= 'even'\n",
        "  \n"
      ],
      "execution_count": 2,
      "outputs": [
        {
          "output_type": "error",
          "ename": "SyntaxError",
          "evalue": "ignored",
          "traceback": [
            "\u001b[0;36m  File \u001b[0;32m\"<ipython-input-2-2f22893cf67f>\"\u001b[0;36m, line \u001b[0;32m2\u001b[0m\n\u001b[0;31m    if['label'] <= 'even'\u001b[0m\n\u001b[0m                         ^\u001b[0m\n\u001b[0;31mSyntaxError\u001b[0m\u001b[0;31m:\u001b[0m invalid syntax\n"
          ]
        }
      ]
    },
    {
      "metadata": {
        "id": "7JmzcjC1QFIt",
        "colab_type": "code",
        "colab": {
          "base_uri": "https://localhost:8080/",
          "height": 168
        },
        "outputId": "fc8e791e-d30f-4d96-9071-cbcd5ca8d0cd"
      },
      "cell_type": "code",
      "source": [
        "## Neural network in numpy\n",
        "\n",
        "import numpy as np\n",
        "\n",
        "#Input array\n",
        "X=np.array([[1,0,1,0],[1,0,1,1],[0,1,0,1]])\n",
        "\n",
        "#Output\n",
        "y=np.array([[1],[1],[0]])\n",
        "\n",
        "#Sigmoid Function\n",
        "def sigmoid (x):\n",
        " return 1/(1 + np.exp(-x))\n",
        "\n",
        "#Derivative of Sigmoid Function\n",
        "def derivatives_sigmoid(x):\n",
        " return x * (1 - x)\n",
        "\n",
        "#Variable initialization\n",
        "epoch=5000 #Setting training iterations\n",
        "lr=0.1 #Setting learning rate\n",
        "inputlayer_neurons = X.shape[1] #number of features in data set\n",
        "hiddenlayer_neurons = 3 #number of hidden layers neurons\n",
        "output_neurons = 1 #number of neurons at output layer\n",
        "\n",
        "#weight and bias initialization\n",
        "wh=np.random.uniform(size=(inputlayer_neurons,hiddenlayer_neurons))\n",
        "bh=np.random.uniform(size=(1,hiddenlayer_neurons))\n",
        "wout=np.random.uniform(size=(hiddenlayer_neurons,output_neurons))\n",
        "bout=np.random.uniform(size=(1,output_neurons))\n",
        "\n",
        "for i in range(epoch):\n",
        "  #Forward Propogation\n",
        "  hidden_layer_input1=np.dot(X,wh)\n",
        "  hidden_layer_input=hidden_layer_input1 + bh\n",
        "  hiddenlayer_activations = sigmoid(hidden_layer_input)\n",
        "  output_layer_input1=np.dot(hiddenlayer_activations,wout)\n",
        "  output_layer_input= output_layer_input1+ bout\n",
        "  output = sigmoid(output_layer_input)\n",
        "\n",
        "  #Backpropagation\n",
        "  E = y-output\n",
        "  slope_output_layer = derivatives_sigmoid(output)\n",
        "  slope_hidden_layer = derivatives_sigmoid(hiddenlayer_activations)\n",
        "  d_output = E * slope_output_layer\n",
        "  Error_at_hidden_layer = d_output.dot(wout.T)\n",
        "  d_hiddenlayer = Error_at_hidden_layer * slope_hidden_layer\n",
        "  wout += hiddenlayer_activations.T.dot(d_output) *lr\n",
        "  bout += np.sum(d_output, axis=0,keepdims=True) *lr\n",
        "  wh += X.T.dot(d_hiddenlayer) *lr\n",
        "  bh += np.sum(d_hiddenlayer, axis=0,keepdims=True) *lr\n",
        "\n",
        "print('actual :\\n', y, '\\n')\n",
        "print('predicted :\\n', output)"
      ],
      "execution_count": 4,
      "outputs": [
        {
          "output_type": "stream",
          "text": [
            "actual :\n",
            " [[1]\n",
            " [1]\n",
            " [0]] \n",
            "\n",
            "predicted :\n",
            " [[0.98275184]\n",
            " [0.96840695]\n",
            " [0.04396828]]\n"
          ],
          "name": "stdout"
        }
      ]
    },
    {
      "metadata": {
        "id": "uVbU0dpkQSum",
        "colab_type": "code",
        "colab": {
          "base_uri": "https://localhost:8080/",
          "height": 168
        },
        "outputId": "a15877a7-6fec-43b8-d95a-64c8f6734abf"
      },
      "cell_type": "code",
      "source": [
        "## neural network in pytorch\n",
        "\n",
        "import torch\n",
        "\n",
        "#Input array\n",
        "X = torch.Tensor([[1,0,1,0],[1,0,1,1],[0,1,0,1]])\n",
        "\n",
        "#Output\n",
        "y = torch.Tensor([[1],[1],[0]])\n",
        "\n",
        "#Sigmoid Function\n",
        "def sigmoid (x):\n",
        "  return 1/(1 + torch.exp(-x))\n",
        "\n",
        "#Derivative of Sigmoid Function\n",
        "def derivatives_sigmoid(x):\n",
        "  return x * (1 - x)\n",
        "\n",
        "#Variable initialization\n",
        "epoch=5000 #Setting training iterations\n",
        "lr=0.1 #Setting learning rate\n",
        "inputlayer_neurons = X.shape[1] #number of features in data set\n",
        "hiddenlayer_neurons = 3 #number of hidden layers neurons\n",
        "output_neurons = 1 #number of neurons at output layer\n",
        "\n",
        "#weight and bias initialization\n",
        "wh=torch.randn(inputlayer_neurons, hiddenlayer_neurons).type(torch.FloatTensor)\n",
        "bh=torch.randn(1, hiddenlayer_neurons).type(torch.FloatTensor)\n",
        "wout=torch.randn(hiddenlayer_neurons, output_neurons)\n",
        "bout=torch.randn(1, output_neurons)\n",
        "\n",
        "for i in range(epoch):\n",
        "\n",
        "  #Forward Propogation\n",
        "  hidden_layer_input1 = torch.mm(X, wh)\n",
        "  hidden_layer_input = hidden_layer_input1 + bh\n",
        "  hidden_layer_activations = sigmoid(hidden_layer_input)\n",
        " \n",
        "  output_layer_input1 = torch.mm(hidden_layer_activations, wout)\n",
        "  output_layer_input = output_layer_input1 + bout\n",
        "  output = sigmoid(output_layer_input1)\n",
        "\n",
        "  #Backpropagation\n",
        "  E = y-output\n",
        "  slope_output_layer = derivatives_sigmoid(output)\n",
        "  slope_hidden_layer = derivatives_sigmoid(hidden_layer_activations)\n",
        "  d_output = E * slope_output_layer\n",
        "  Error_at_hidden_layer = torch.mm(d_output, wout.t())\n",
        "  d_hiddenlayer = Error_at_hidden_layer * slope_hidden_layer\n",
        "  wout += torch.mm(hidden_layer_activations.t(), d_output) *lr\n",
        "  bout += d_output.sum() *lr\n",
        "  wh += torch.mm(X.t(), d_hiddenlayer) *lr\n",
        "  bh += d_output.sum() *lr\n",
        " \n",
        "print('actual :\\n', y, '\\n')\n",
        "print('predicted :\\n', output)"
      ],
      "execution_count": 6,
      "outputs": [
        {
          "output_type": "stream",
          "text": [
            "actual :\n",
            " tensor([[1.],\n",
            "        [1.],\n",
            "        [0.]]) \n",
            "\n",
            "predicted :\n",
            " tensor([[0.9831],\n",
            "        [0.9790],\n",
            "        [0.0414]])\n"
          ],
          "name": "stdout"
        }
      ]
    }
  ]
}